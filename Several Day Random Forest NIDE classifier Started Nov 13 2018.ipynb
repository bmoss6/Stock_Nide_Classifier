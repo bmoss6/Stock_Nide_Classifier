{
 "cells": [
  {
   "cell_type": "code",
   "execution_count": 1,
   "metadata": {
    "collapsed": true
   },
   "outputs": [],
   "source": [
    "import numpy as np\n",
    "from matplotlib import pyplot as plt\n",
    "from sklearn.ensemble import RandomForestClassifier\n",
    "from sklearn.metrics import confusion_matrix\n",
    "\n",
    "%matplotlib inline"
   ]
  },
  {
   "cell_type": "code",
   "execution_count": 2,
   "metadata": {
    "collapsed": true
   },
   "outputs": [],
   "source": [
    "# Here we prepare a dictionary with the keys being dates and the items being the list of labels \n",
    "# (0 non-nide 1 nide)\n",
    "\n",
    "dict_labels = {}\n",
    "\n",
    "times = np.linspace(37800, 57600, 1980) # approx but pretty close I think\n",
    "\n",
    "# we label the data on 102117 according to if it was during the nide or not\n",
    "attack1 = (11 * 3600, 13.5 * 3600)\n",
    "attack2 = ((15+5/6) * 3600, 17 * 3600)\n",
    "labels1 = np.array([1 if t >= attack1[0] and t <= attack1[1] else 0 for t in times])\n",
    "labels2 = np.array([1 if t >= attack2[0] and t <= attack2[1] else 0 for t in times])\n",
    "labels = labels1 + labels2\n",
    "dict_labels['102116'] = labels\n",
    "\n",
    "attack = (17.75 * 3600, (20 + 5/6) * 3600)\n",
    "labels = np.array([1 if t >= attack[0] and t <= attack[1] else 0 for t in times])\n",
    "dict_labels['062516'] = labels\n",
    "\n",
    "attack = (8.5 * 3600, (9.5) * 3600)\n",
    "labels = np.array([1 if t >= attack[0] and t <= attack[1] else 0 for t in times])\n",
    "dict_labels['071016'] = labels\n",
    "\n",
    "attack = ((12+ 37/60) * 3600, (16+54/60) * 3600)\n",
    "labels = np.array([1 if t >= attack[0] and t <= attack[1] else 0 for t in times])\n",
    "dict_labels['022817'] = labels\n",
    "\n",
    "attack = ((17+ 36/60) * 3600, (17+43/60) * 3600)\n",
    "labels = np.array([1 if t >= attack[0] and t <= attack[1] else 0 for t in times])\n",
    "dict_labels['042617'] = labels\n",
    "\n",
    "attack = ((7+ 25/60) * 3600, (15+0/60) * 3600)\n",
    "labels = np.array([1 if t >= attack[0] and t <= attack[1] else 0 for t in times])\n",
    "dict_labels['072517'] = labels\n",
    "\n",
    "attack = ((12+43/60) * 3600, (12+46/60) * 3600)\n",
    "labels = np.array([1 if t >= attack[0] and t <= attack[1] else 0 for t in times])\n",
    "dict_labels['121217'] = labels\n",
    "\n",
    "dict_labels['102816'] = np.zeros(len(times))\n",
    "dict_labels['110816'] = np.zeros(len(times))\n",
    "dict_labels['091316'] = np.zeros(len(times))\n",
    "dict_labels['111917'] = np.zeros(len(times))\n",
    "dict_labels['112617'] = np.zeros(len(times))\n",
    "dict_labels['103117'] = np.zeros(len(times))\n",
    "\n",
    "\n",
    "\n",
    "\n",
    "# Make this the one that we don't look at for training purposes (this and one more day of no attacks.)\n",
    "attack = ((12+47/60) * 3600, (15+38/60) * 3600)\n",
    "labels = np.array([1 if t >= attack[0] and t <= attack[1] else 0 for t in times])\n",
    "dict_labels['110617'] = labels\n",
    "dict_labels['101416'] = np.zeros(len(times))\n"
   ]
  },
  {
   "cell_type": "code",
   "execution_count": 9,
   "metadata": {},
   "outputs": [
    {
     "name": "stdout",
     "output_type": "stream",
     "text": [
      "out_data current shape is  (29700, 16)\n",
      "[2.07588621e+06 5.95666697e+04 8.87122222e+02 7.09609987e+04\n",
      " 8.11753603e+04 3.82148203e+00 1.76049209e+00 1.52304869e+00\n",
      " 1.55990068e+00 1.73785371e+00 1.56969097e+12 1.51748526e+04\n",
      " 9.57244062e+03 1.84512664e+04 6.73722872e+04 0.00000000e+00]\n"
     ]
    }
   ],
   "source": [
    "# We first need to load in the data\n",
    "list_of_features = [\"m_flux\", \"d_flux\", \"dd_flux\", \"bid_flux\", \"ask_flux\",\n",
    "                    \"m_mlf\", \"d_mlf\", \"dd_mlf\", \"bid_mlf\", \"ask_mlf\",\n",
    "                    \"m_var\", \"d_var\", \"dd_var\", \"bid_var\", \"ask_var\" ]\n",
    "days = dict_labels.keys()\n",
    "out_data = np.zeros(16)\n",
    "for day in days:\n",
    "    # below are avarages\n",
    "    m_flux = np.load(\"avg_message_{0}_low_hour_window_step1000.npy\".format(day))\n",
    "    d_flux = np.load(\"avg_depth_{0}_low_hour_window_step1000.npy\".format(day))\n",
    "    dd_flux = np.load(\"avg_delta_depth_{0}_low_hour_window_step1000.npy\".format(day))\n",
    "    bid_flux = np.load(\"avg_bid_{0}_low_hour_window_step1000.npy\".format(day))\n",
    "    ask_flux = np.load(\"avg_ask_{0}_low_hour_window_step1000.npy\".format(day))\n",
    "    # below are the log spectral weighted means\n",
    "    m_mlf = np.load(\"mlf_message_{0}_low_hour_window_step1000.npy\".format(day))\n",
    "    d_mlf = np.load(\"mlf_depth_{0}_low_hour_window_step1000.npy\".format(day))\n",
    "    dd_mlf = np.load(\"mlf_delta_depth_{0}_low_hour_window_step1000.npy\".format(day))\n",
    "    bid_mlf = np.load(\"mlf_bid_{0}_low_hour_window_step1000.npy\".format(day))\n",
    "    ask_mlf = np.load(\"mlf_ask_{0}_low_hour_window_step1000.npy\".format(day))\n",
    "    # and the variances\n",
    "    m_var = np.load(\"message_var_{0}_low_hour_window_step1000.npy\".format(day))\n",
    "    d_var = np.load(\"delta_var_{0}_low_hour_window_step1000.npy\".format(day))\n",
    "    dd_var = np.load(\"delta_depth_var_{0}_low_hour_window_step1000.npy\".format(day))\n",
    "    bid_var = np.load(\"bid_var_{0}_low_hour_window_step1000.npy\".format(day))\n",
    "    ask_var = np.load(\"ask_var_{0}_low_hour_window_step1000.npy\".format(day))\n",
    "    # Below are the labels for this day:\n",
    "    days_labels = dict_labels[day]\n",
    "    data_T = np.array([m_flux, d_flux, dd_flux, bid_flux, ask_flux,\n",
    "                       m_mlf, d_mlf, dd_mlf, bid_mlf, ask_mlf, \n",
    "                       m_var, d_var, dd_var, bid_var, ask_var, days_labels])\n",
    "    data = np.transpose(data_T)\n",
    "    out_data = np.vstack([out_data, data])\n",
    "out_data = out_data[1:, :]\n",
    "print(\"out_data current shape is \", np.shape(out_data))\n",
    "print(out_data[1])"
   ]
  },
  {
   "cell_type": "code",
   "execution_count": 14,
   "metadata": {},
   "outputs": [
    {
     "data": {
      "text/plain": [
       "\"'m_flux', 'd_flux', 'dd_flux', 'bid_flux', 'ask_flux', 'm_mlf', 'd_mlf', 'dd_mlf', 'bid_mlf', 'ask_mlf', 'm_var', 'd_var', 'dd_var', 'bid_var', 'ask_var', 'NIDE?'\""
      ]
     },
     "execution_count": 14,
     "metadata": {},
     "output_type": "execute_result"
    }
   ],
   "source": [
    "str(list_of_features)[1:-1]+\", 'NIDE?'\""
   ]
  },
  {
   "cell_type": "code",
   "execution_count": 15,
   "metadata": {},
   "outputs": [],
   "source": [
    "# Lets put all this data into a csv that we can load and share in the future\n",
    "np.savetxt(\"sevaral_features_for_sevaral_days.csv\", out_data, delimiter=',',\n",
    "              newline='\\n', header=str(list_of_features)[1:-1]+\", 'NIDE?'\")\n"
   ]
  },
  {
   "cell_type": "code",
   "execution_count": 20,
   "metadata": {},
   "outputs": [
    {
     "name": "stdout",
     "output_type": "stream",
     "text": [
      "5315113231325.558 -1e+20\n"
     ]
    }
   ],
   "source": [
    "# Replace all NaNs with zeros (this only happens for 4 of the features: 'd_mlf', 'dd_mlf', \n",
    "#      'bid_mlf' and 'ask_mlf')\n",
    "# We take this step as preliminary and do so with our eyes open (especially to those 4 features)\n",
    "out_data = np.nan_to_num(out_data)\n",
    "index = out_data < -1e20\n",
    "out_data[index] = -1e20\n",
    "print(np.max(out_data), np.min(out_data))\n",
    "\n",
    "# set aside the last 3960 rows for future testing purposes.\n",
    "final_test_data = out_data[-3960:, :]\n",
    "working_data = out_data[:-3960, :]"
   ]
  },
  {
   "cell_type": "code",
   "execution_count": 21,
   "metadata": {},
   "outputs": [
    {
     "name": "stdout",
     "output_type": "stream",
     "text": [
      "(17160, 15) (17160, 1) (8580, 15) (8580, 1)\n"
     ]
    }
   ],
   "source": [
    "# We shuffle the data and split in to a training and a testing set\n",
    "np.random.shuffle(working_data)\n",
    "# 2/3 the data for training and 1/3 for testing?\n",
    "split = len(working_data) // 3 * 2\n",
    "# split the shuffled data\n",
    "X_train = working_data[0:split, :-1]\n",
    "y_train = working_data[0:split, -1:]\n",
    "X_test = working_data[split:, :-1]\n",
    "y_test = working_data[split:, -1:]\n",
    "print(np.shape(X_train), np.shape(y_train), np.shape(X_test), np.shape(y_test))"
   ]
  },
  {
   "cell_type": "code",
   "execution_count": 22,
   "metadata": {},
   "outputs": [
    {
     "name": "stderr",
     "output_type": "stream",
     "text": [
      "/Users/Charles/anaconda3/lib/python3.6/site-packages/ipykernel_launcher.py:6: DataConversionWarning: A column-vector y was passed when a 1d array was expected. Please change the shape of y to (n_samples,), for example using ravel().\n",
      "  \n"
     ]
    },
    {
     "data": {
      "text/plain": [
       "RandomForestClassifier(bootstrap=True, class_weight=None, criterion='gini',\n",
       "            max_depth=3, max_features='auto', max_leaf_nodes=8,\n",
       "            min_impurity_decrease=0.0, min_impurity_split=None,\n",
       "            min_samples_leaf=1, min_samples_split=2,\n",
       "            min_weight_fraction_leaf=0.0, n_estimators=100, n_jobs=-1,\n",
       "            oob_score=False, random_state=None, verbose=0,\n",
       "            warm_start=False)"
      ]
     },
     "execution_count": 22,
     "metadata": {},
     "output_type": "execute_result"
    }
   ],
   "source": [
    "# We build and train our random forest\n",
    "\n",
    "rfc = RandomForestClassifier(n_estimators = 100, max_depth = 3, max_leaf_nodes = 8, \n",
    "                                 n_jobs = -1)\n",
    "# Train the model\n",
    "rfc.fit(X_train, y_train)"
   ]
  },
  {
   "cell_type": "code",
   "execution_count": 23,
   "metadata": {
    "collapsed": true
   },
   "outputs": [],
   "source": [
    "def prescision(cm):\n",
    "    \"\"\"Returns a prescision score based on the imputed confusion matrix\n",
    "    :param cm: a 2 by 2 numpy array, the confusion matrix\n",
    "    :returns: the prescision score.\n",
    "    \"\"\"\n",
    "    return cm[0,0] / (np.sum(cm[0, :]))\n",
    "\n",
    "def recall(cm):\n",
    "    \"\"\"Returns a recall score based on the imputed confusion matrix\n",
    "    :param cm: a 2 by 2 numpy array, the confusion matrix\n",
    "    :returns: the recall score.\n",
    "    \"\"\"\n",
    "    return cm[0,0] / (np.sum(cm[:, 0]))"
   ]
  },
  {
   "cell_type": "code",
   "execution_count": 100,
   "metadata": {},
   "outputs": [
    {
     "name": "stderr",
     "output_type": "stream",
     "text": [
      "/Users/Charles/anaconda3/lib/python3.6/site-packages/ipykernel_launcher.py:13: RuntimeWarning: invalid value encountered in long_scalars\n",
      "  del sys.path[0]\n"
     ]
    },
    {
     "name": "stdout",
     "output_type": "stream",
     "text": [
      "prescision  0.939087680961486 recall  0.9592633928571429 accuracy:  0.913986013986014\n",
      "accuracy always guessing there was no nide:  [0.85337995]\n"
     ]
    },
    {
     "data": {
      "image/png": "[encoded data removed]",
      "text/plain": [
       "<Figure size 432x288 with 1 Axes>"
      ]
     },
     "metadata": {},
     "output_type": "display_data"
    }
   ],
   "source": [
    "# we test and evaluate the preformance of our random forest\n",
    "# We now predict a probability that one is a child\n",
    "y_prob_rf = rfc.predict_proba(X_test) \n",
    "\n",
    "# We now change a threshold for prediction and plot the prescision vs the recall\n",
    "# I believe that the automatic threshold being used above was 0.5 (if its more than \n",
    "#     50% likely that one has an implant we classify it as having an implant).\n",
    "\n",
    "num_samples = int(1e2)\n",
    "pres = np.zeros(num_samples)\n",
    "recl = np.zeros(num_samples)\n",
    "index = 0\n",
    "x_axis = np.linspace(0, 1, num_samples)\n",
    "accuracy = []\n",
    "for threshold in x_axis:\n",
    "    y_pred = [0 if y_prob_rf[i,1] < threshold else 1 for i in range(len(y_prob_rf))]\n",
    "    conf = confusion_matrix(y_test, y_pred)\n",
    "    pres[index] = prescision(conf)\n",
    "    recl[index] = recall(conf)\n",
    "    index += 1\n",
    "    accuracy.append((conf[0,0] + conf[1,1]) / (len(y_pred)))\n",
    "    \n",
    "plt.plot(x_axis, pres, 'r', label=\"prescision\")\n",
    "plt.plot(x_axis, recl, 'b', label='recall')\n",
    "plt.plot(x_axis, accuracy, 'g--', label=\"accuracy\")\n",
    "\n",
    "#plt.plot(x_axis, np.ones(len(x_axis)) * 0.83, 'g--')\n",
    "#plt.plot(x_axis, np.ones(len(x_axis)) * 0.92, 'y--')\n",
    "\n",
    "plt.ylim(0, 1.05)\n",
    "plt.legend()\n",
    "plt.show\n",
    "\n",
    "indx = 15\n",
    "print(\"prescision \", pres[indx], \"recall \",recl[indx], \"accuracy: \", accuracy[indx])\n",
    "print(\"accuracy always guessing there was no nide: \", 1 - sum(y_test) /len(y_test) )"
   ]
  },
  {
   "cell_type": "code",
   "execution_count": null,
   "metadata": {},
   "outputs": [],
   "source": []
  },
  {
   "cell_type": "markdown",
   "metadata": {},
   "source": [
    "Right now, we see that the classifier preforms very well on data randomly sampled from the days that it was trained on.  However, we now test how it preforms on 2 days that it was not trained on."
   ]
  },
  {
   "cell_type": "code",
   "execution_count": 57,
   "metadata": {},
   "outputs": [
    {
     "name": "stderr",
     "output_type": "stream",
     "text": [
      "/Users/Charles/anaconda3/lib/python3.6/site-packages/ipykernel_launcher.py:13: RuntimeWarning: invalid value encountered in long_scalars\n",
      "  del sys.path[0]\n"
     ]
    },
    {
     "name": "stdout",
     "output_type": "stream",
     "text": [
      "[[2880   54]\n",
      " [ 760  266]] [0,1]false positives, [1,0] false negatives\n",
      "\n",
      "[0.74090909]  is the accuracy we would have simply guessing that NIDEs never happen\n",
      "\n",
      "Near an ideal NIDE descision threshold (high recall) we have:\n",
      "prescision: 0.6738241308793456 recall: 1.0  and accuracy: 0.7583333333333333 \n",
      "\n",
      "Near another ideal NIDE descision threshold (high prescision) we have:\n",
      "prescision: 0.9815950920245399 recall: 0.7912087912087912  and accuracy: 0.7944444444444444\n"
     ]
    },
    {
     "data": {
      "image/png": "[encoded data removed]",
      "text/plain": [
       "<Figure size 432x288 with 1 Axes>"
      ]
     },
     "metadata": {},
     "output_type": "display_data"
    }
   ],
   "source": [
    "X_final_test = final_test_data[:, :-1]\n",
    "y_final_test = final_test_data[:, -1:]\n",
    "\n",
    "# we test and evaluate the preformance of our random forest\n",
    "# We now predict a probability that one is a child\n",
    "y_prob_rf = rfc.predict_proba(X_final_test) \n",
    "\n",
    "# We now change a threshold for prediction and plot the prescision vs the recall\n",
    "# I believe that the automatic threshold being used above was 0.5 (if its more than \n",
    "#     50% likely that one has an implant we classify it as having an implant).\n",
    "\n",
    "num_samples = int(1e2)\n",
    "pres = np.zeros(num_samples)\n",
    "recl = np.zeros(num_samples)\n",
    "index = 0\n",
    "x_axis = np.linspace(0, 1, num_samples)\n",
    "accuracy = []\n",
    "for threshold in x_axis:\n",
    "    y_pred = [0 if y_prob_rf[i,1] < threshold else 1 for i in range(len(y_prob_rf))]\n",
    "    conf = confusion_matrix(y_final_test, y_pred)\n",
    "    if (threshold > .15 and threshold < .16):\n",
    "        print(conf, \"[0,1]false positives, [1,0] false negatives\\n\")\n",
    "    pres[index] = prescision(conf)\n",
    "    recl[index] = recall(conf)\n",
    "    index += 1\n",
    "    accuracy.append((conf[0,0] + conf[1,1]) / (len(y_pred)))\n",
    "    \n",
    "plt.plot(x_axis, pres, 'r', label=\"prescision\")\n",
    "plt.plot(x_axis, recl, 'b', label='recall')\n",
    "plt.plot(x_axis, accuracy, 'g--', label=\"accuracy\")\n",
    "\n",
    "#plt.plot(x_axis, np.ones(len(x_axis)) * 0.83, 'g--')\n",
    "#plt.plot(x_axis, np.ones(len(x_axis)) * 0.92, 'y--')\n",
    "\n",
    "plt.ylim(0, 1.05)\n",
    "plt.legend()\n",
    "plt.show\n",
    "\n",
    "print(1 - sum(y_final_test) / len(y_final_test), \" is the accuracy we would have simply guessing that NIDEs never happen\\n\")\n",
    "\n",
    "indx = 7\n",
    "print(\"Near an ideal NIDE descision threshold (high recall) we have:\")\n",
    "print(\"prescision:\", pres[indx], \"recall:\", recl[indx], \" and accuracy:\", accuracy[indx], \"\\n\")\n",
    "\n",
    "indx = 15\n",
    "print(\"Near another ideal NIDE descision threshold (high prescision) we have:\")\n",
    "print(\"prescision:\", pres[indx], \"recall:\", recl[indx], \" and accuracy:\", accuracy[indx])\n"
   ]
  },
  {
   "cell_type": "markdown",
   "metadata": {},
   "source": [
    "In the confusion matrix above we correctly identified 266 times when nides were occuring and 2880 times when they were not.  However, we incorecly predicted that a nide was occuring 54 times and we incorrecly predicted that a nide was not occuring 760 times.\n",
    "\n",
    "When we look at the plot we see that the accuracy approaches 80% twice, first with a high recall (likely what we want, since false nide alarms are less problematic than missing nides that happen) and secondly with a hight prescision (probably not what we want as we want to catch all the nides).  It appears we can have it either way."
   ]
  },
  {
   "cell_type": "code",
   "execution_count": 58,
   "metadata": {},
   "outputs": [
    {
     "name": "stdout",
     "output_type": "stream",
     "text": [
      "['m_flux', 'd_flux', 'dd_flux', 'bid_flux', 'ask_flux']\n",
      "[0.02764324 0.17743256 0.03066704 0.2044912  0.18106127]\n",
      "['m_mlf', 'd_mlf', 'dd_mlf', 'bid_mlf', 'ask_mlf']\n",
      "[0.12488401 0.01854966 0.01200249 0.01740214 0.01604208]\n",
      "['m_var', 'd_var', 'dd_var', 'bid_var', 'ask_var']\n",
      "[0.14649877 0.00236221 0.01787763 0.01215378 0.01093191]\n"
     ]
    }
   ],
   "source": [
    "# we pull out the feature importances\n",
    "# Now we get scores for feature importances for our classifier\n",
    "print(list_of_features[0:5])\n",
    "print(rfc.feature_importances_[0:5])\n",
    "print(list_of_features[5:10])\n",
    "print(rfc.feature_importances_[5:10])\n",
    "print(list_of_features[10:])\n",
    "print(rfc.feature_importances_[10:])"
   ]
  },
  {
   "cell_type": "code",
   "execution_count": 84,
   "metadata": {},
   "outputs": [
    {
     "name": "stdout",
     "output_type": "stream",
     "text": [
      "[1. 1. 1. ... 1. 1. 1.]\n",
      "[0. 0. 0. ... 0. 0. 0.]\n"
     ]
    }
   ],
   "source": [
    "out_data_copy = np.copy(out_data)\n",
    "out_data_copy = out_data_copy[np.argsort(out_data_copy[:, -1])]\n",
    "print(out_data_copy[-4400:, -1])\n",
    "print(out_data_copy[0:24500, -1])"
   ]
  },
  {
   "cell_type": "code",
   "execution_count": 91,
   "metadata": {},
   "outputs": [
    {
     "data": {
      "image/png": "[encoded data removed]",
      "text/plain": [
       "<Figure size 432x288 with 1 Axes>"
      ]
     },
     "metadata": {},
     "output_type": "display_data"
    },
    {
     "data": {
      "image/png": "[encoded data removed]",
      "text/plain": [
       "<Figure size 432x288 with 1 Axes>"
      ]
     },
     "metadata": {},
     "output_type": "display_data"
    }
   ],
   "source": [
    "# The most important features seem to be: bid_flux, ask_flux, d_flux, m_var and m_mlf.\n",
    "\n",
    "plt.plot(out_data_copy[:24500, 3], out_data_copy[:24500, 4], 'bo', alpha=.1, label=\"No NIDE\")\n",
    "plt.plot(out_data_copy[-4400:, 3], out_data_copy[-4400:, 4], 'ro', alpha=.1, label=\"NIDE\")\n",
    "plt.title(\"bid_flux and ask_flux\")\n",
    "plt.xlabel(\"bid_flux\")\n",
    "plt.ylabel(\"ask_flux\")\n",
    "plt.legend()\n",
    "plt.savefig('bid_ask_data_plot.png', bbox_inches='tight')\n",
    "plt.show()\n",
    "\n",
    "# Now we zoom in \n",
    "plt.plot(out_data_copy[:24500, 3], out_data_copy[:24500, 4], 'bo', alpha=.1, label=\"No NIDE\")\n",
    "plt.plot(out_data_copy[-4400:, 3], out_data_copy[-4400:, 4], 'ro', alpha=.1, label=\"NIDE\")\n",
    "plt.title(\"bid_flux and ask_flux\")\n",
    "plt.xlabel(\"bid_flux\")\n",
    "plt.ylabel(\"ask_flux\")\n",
    "plt.xlim(6e4, 8e4)\n",
    "plt.ylim(6e4, 9e4)\n",
    "plt.legend()\n",
    "plt.savefig('bid_ask_data_plot_zoom.png', bbox_inches='tight')\n",
    "plt.show()"
   ]
  },
  {
   "cell_type": "code",
   "execution_count": 95,
   "metadata": {},
   "outputs": [
    {
     "data": {
      "image/png": "[encoded data removed]",
      "text/plain": [
       "<Figure size 432x288 with 1 Axes>"
      ]
     },
     "metadata": {},
     "output_type": "display_data"
    },
    {
     "data": {
      "image/png": "[encoded data removed]",
      "text/plain": [
       "<Figure size 432x288 with 1 Axes>"
      ]
     },
     "metadata": {},
     "output_type": "display_data"
    }
   ],
   "source": [
    "# The most important features seem to be: bid_flux, ask_flux, d_flux, m_var and m_mlf.\n",
    "\n",
    "plt.plot(out_data_copy[:24500, 1], out_data_copy[:24500, 11], 'bo', alpha=.1, label=\"No NIDE\")\n",
    "plt.plot(out_data_copy[-4400:, 1], out_data_copy[-4400:, 11], 'ro', alpha=.1, label=\"NIDE\")\n",
    "plt.title(\"d_flux and m_var\")\n",
    "plt.xlabel(\"d_flux\")\n",
    "plt.ylabel(\"m_var\")\n",
    "plt.legend()\n",
    "plt.savefig('dflux_mvar_data_plot.png', bbox_inches='tight')\n",
    "plt.show()\n",
    "\n",
    "# Now we zoom in \n",
    "plt.plot(out_data_copy[:24500, 1], out_data_copy[:24500, 3], 'bo', alpha=.1, label=\"No NIDE\")\n",
    "plt.plot(out_data_copy[-4400:, 1], out_data_copy[-4400:, 3], 'ro', alpha=.1, label=\"NIDE\")\n",
    "plt.title(\"d_flux and bid_flux\")\n",
    "plt.xlabel(\"d_flux\")\n",
    "plt.ylabel(\"bid_flux\")\n",
    "plt.legend()\n",
    "plt.savefig('dflux_bid_data_plot.png', bbox_inches='tight')\n",
    "plt.show()"
   ]
  },
  {
   "cell_type": "code",
   "execution_count": null,
   "metadata": {
    "collapsed": true
   },
   "outputs": [],
   "source": []
  }
 ],
 "metadata": {
  "kernelspec": {
   "display_name": "Python 3",
   "language": "python",
   "name": "python3"
  },
  "language_info": {
   "codemirror_mode": {
    "name": "ipython",
    "version": 3
   },
   "file_extension": ".py",
   "mimetype": "text/x-python",
   "name": "python",
   "nbconvert_exporter": "python",
   "pygments_lexer": "ipython3",
   "version": "3.6.3"
  }
 },
 "nbformat": 4,
 "nbformat_minor": 2
}
